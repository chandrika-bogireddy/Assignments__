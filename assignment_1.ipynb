{
  "nbformat": 4,
  "nbformat_minor": 0,
  "metadata": {
    "colab": {
      "provenance": []
    },
    "kernelspec": {
      "name": "python3",
      "display_name": "Python 3"
    },
    "language_info": {
      "name": "python"
    }
  },
  "cells": [
    {
      "cell_type": "code",
      "execution_count": null,
      "metadata": {
        "colab": {
          "base_uri": "https://localhost:8080/"
        },
        "id": "AFRvuqogV_eM",
        "outputId": "84373efd-fa0d-4b0a-97ac-ca55d18a8703"
      },
      "outputs": [
        {
          "name": "stdout",
          "output_type": "stream",
          "text": [
            "Hello World\n"
          ]
        },
        {
          "output_type": "execute_result",
          "data": {
            "text/plain": [
              "{'a': 0, 'e': 1, 'i': 0, 'o': 2, 'u': 0}"
            ]
          },
          "metadata": {},
          "execution_count": 15
        }
      ],
      "source": [
        "#Vowels count\n",
        "def vow_dict(s):\n",
        "  dic={'a':0,'e':0,'i':0,'o':0,'u':0}\n",
        "  for i in s:\n",
        "    if i in dic:\n",
        "      if i.isupper():\n",
        "        i=i.islower()\n",
        "        dic[i]+=1\n",
        "      else:\n",
        "        dic[i]+=1\n",
        "    else:\n",
        "      pass\n",
        "  return dic\n",
        "s=input()\n",
        "vow_dict(s)\n"
      ]
    },
    {
      "cell_type": "code",
      "source": [
        "#list of integers\n",
        "def list_num(lis):\n",
        "  final=[]\n",
        "  for i in lis:\n",
        "    c=0\n",
        "    for j in range(1,i+1):\n",
        "      if i%j==0:\n",
        "        c+=1\n",
        "    if c==2:\n",
        "      final.append(i)\n",
        "  return final\n",
        "lis=list(map(int,input().split(',')))\n",
        "list_num(lis)"
      ],
      "metadata": {
        "colab": {
          "base_uri": "https://localhost:8080/"
        },
        "id": "5UHTnLRaX_Vb",
        "outputId": "ec56c9a2-c738-464e-fb9a-0d458299887d"
      },
      "execution_count": null,
      "outputs": [
        {
          "name": "stdout",
          "output_type": "stream",
          "text": [
            "1,2,3,4,5,6,7,8\n"
          ]
        },
        {
          "output_type": "execute_result",
          "data": {
            "text/plain": [
              "[2, 3, 5, 7]"
            ]
          },
          "metadata": {},
          "execution_count": 41
        }
      ]
    },
    {
      "cell_type": "code",
      "source": [
        "a=[(1,3),(4,2),(2,5),(3,1)]\n",
        "for i in range(0,len(a)):\n",
        "  for j in range(i+1,len(a)):\n",
        "     if a[i][1]>a[j][1]:\n",
        "      temp=a[i]\n",
        "      a[i]=a[j]\n",
        "      a[j]=temp\n",
        "print(a)\n"
      ],
      "metadata": {
        "colab": {
          "base_uri": "https://localhost:8080/"
        },
        "id": "0VvZI7yKuUkO",
        "outputId": "aed27801-8056-4bbf-aba1-e6fd06ed71b9"
      },
      "execution_count": null,
      "outputs": [
        {
          "output_type": "stream",
          "name": "stdout",
          "text": [
            "[(3, 1), (4, 2), (1, 3), (2, 5)]\n"
          ]
        }
      ]
    },
    {
      "cell_type": "code",
      "source": [
        "#set operations\n",
        "a=({1,2,3},{3,4,5})\n",
        "l=[]\n",
        "m=[]\n",
        "lis=[]\n",
        "for i in a:\n",
        "  for j in i:\n",
        "    l.append(j)\n",
        "for i in range(0,len(l)):\n",
        "  for j in range(i+1,len(l)):\n",
        "    if l[i]==l[j]:\n",
        "      m.append(l[i])\n",
        "for i in l:\n",
        "  if i not in m:\n",
        "    lis.append(i)\n",
        "lis"
      ],
      "metadata": {
        "colab": {
          "base_uri": "https://localhost:8080/"
        },
        "id": "O_mD3rBV6LQX",
        "outputId": "817430dd-365e-4f01-9d84-89eb7902378d"
      },
      "execution_count": null,
      "outputs": [
        {
          "output_type": "execute_result",
          "data": {
            "text/plain": [
              "[1, 2, 4, 5]"
            ]
          },
          "metadata": {},
          "execution_count": 157
        }
      ]
    },
    {
      "cell_type": "code",
      "source": [
        "#swapping dictionary values\n",
        "d={'a':1,'b':100,'c':4}\n",
        "keys=list([i for i in d])\n",
        "values=[j for i,j in d.items()]\n",
        "dic={}\n",
        "for i in values:\n",
        "    dic[i]= keys[0]\n",
        "    keys.remove(keys[0])\n",
        "dic"
      ],
      "metadata": {
        "colab": {
          "base_uri": "https://localhost:8080/"
        },
        "id": "W7mg39295R4o",
        "outputId": "d533663e-a512-46e3-e7ca-bffb7eb89ed1"
      },
      "execution_count": null,
      "outputs": [
        {
          "output_type": "execute_result",
          "data": {
            "text/plain": [
              "{1: 'a', 100: 'b', 4: 'c'}"
            ]
          },
          "metadata": {},
          "execution_count": 70
        }
      ]
    },
    {
      "cell_type": "code",
      "source": [],
      "metadata": {
        "id": "r8rsuXRON6jv"
      },
      "execution_count": null,
      "outputs": []
    }
  ]
}